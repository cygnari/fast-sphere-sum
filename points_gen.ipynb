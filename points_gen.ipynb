{
 "cells": [
  {
   "cell_type": "code",
   "execution_count": 105,
   "id": "75933764",
   "metadata": {},
   "outputs": [],
   "source": [
    "import numpy as np\n",
    "import math\n",
    "import csv \n",
    "import stripy\n",
    "\n",
    "rng = np.random.default_rng()"
   ]
  },
  {
   "cell_type": "code",
   "execution_count": 106,
   "id": "d89248bf",
   "metadata": {},
   "outputs": [],
   "source": [
    "def sph2cart(r, colat, lon):\n",
    "    x = r * np.sin(colat) * np.cos(lon)\n",
    "    y = r * np.sin(colat) * np.sin(lon)\n",
    "    z = r * np.cos(colat)\n",
    "    return x, y, z"
   ]
  },
  {
   "cell_type": "code",
   "execution_count": 150,
   "id": "f23ffc5f",
   "metadata": {},
   "outputs": [
    {
     "ename": "KeyboardInterrupt",
     "evalue": "",
     "output_type": "error",
     "traceback": [
      "\u001b[0;31m---------------------------------------------------------------------------\u001b[0m",
      "\u001b[0;31mKeyboardInterrupt\u001b[0m                         Traceback (most recent call last)",
      "\u001b[0;32m/var/folders/d8/tsgswjfj1471_9b92f94lsl40000gn/T/ipykernel_5716/3810849759.py\u001b[0m in \u001b[0;36m<module>\u001b[0;34m\u001b[0m\n\u001b[1;32m      8\u001b[0m \u001b[0;31m#     lon = rng.random() * 2 * math.pi\u001b[0m\u001b[0;34m\u001b[0m\u001b[0;34m\u001b[0m\u001b[0m\n\u001b[1;32m      9\u001b[0m     \u001b[0mlon\u001b[0m \u001b[0;34m=\u001b[0m \u001b[0mfmesh\u001b[0m\u001b[0;34m.\u001b[0m\u001b[0mlons\u001b[0m\u001b[0;34m[\u001b[0m\u001b[0mi\u001b[0m\u001b[0;34m]\u001b[0m\u001b[0;34m\u001b[0m\u001b[0;34m\u001b[0m\u001b[0m\n\u001b[0;32m---> 10\u001b[0;31m     \u001b[0mlat\u001b[0m \u001b[0;34m=\u001b[0m \u001b[0mmath\u001b[0m\u001b[0;34m.\u001b[0m\u001b[0mpi\u001b[0m \u001b[0;34m/\u001b[0m \u001b[0;36m2\u001b[0m \u001b[0;34m-\u001b[0m \u001b[0mfmesh\u001b[0m\u001b[0;34m.\u001b[0m\u001b[0mlats\u001b[0m\u001b[0;34m[\u001b[0m\u001b[0mi\u001b[0m\u001b[0;34m]\u001b[0m\u001b[0;34m\u001b[0m\u001b[0;34m\u001b[0m\u001b[0m\n\u001b[0m\u001b[1;32m     11\u001b[0m \u001b[0;31m#     lat = np.arccos(2 * rng.random() - 1)\u001b[0m\u001b[0;34m\u001b[0m\u001b[0;34m\u001b[0m\u001b[0m\n\u001b[1;32m     12\u001b[0m     \u001b[0mx\u001b[0m\u001b[0;34m,\u001b[0m \u001b[0my\u001b[0m\u001b[0;34m,\u001b[0m \u001b[0mz\u001b[0m \u001b[0;34m=\u001b[0m \u001b[0msph2cart\u001b[0m\u001b[0;34m(\u001b[0m\u001b[0;36m1\u001b[0m\u001b[0;34m,\u001b[0m \u001b[0mlat\u001b[0m\u001b[0;34m,\u001b[0m \u001b[0mlon\u001b[0m\u001b[0;34m)\u001b[0m\u001b[0;34m\u001b[0m\u001b[0;34m\u001b[0m\u001b[0m\n",
      "\u001b[0;32m~/.pyenv/versions/3.10.0/lib/python3.10/site-packages/stripy/spherical.py\u001b[0m in \u001b[0;36mlats\u001b[0;34m(self)\u001b[0m\n\u001b[1;32m    235\u001b[0m     \u001b[0;32mdef\u001b[0m \u001b[0mlats\u001b[0m\u001b[0;34m(\u001b[0m\u001b[0mself\u001b[0m\u001b[0;34m)\u001b[0m\u001b[0;34m:\u001b[0m\u001b[0;34m\u001b[0m\u001b[0;34m\u001b[0m\u001b[0m\n\u001b[1;32m    236\u001b[0m         \u001b[0;34m\"\"\" Latitudinal coordinates on a sphere \"\"\"\u001b[0m\u001b[0;34m\u001b[0m\u001b[0;34m\u001b[0m\u001b[0m\n\u001b[0;32m--> 237\u001b[0;31m         \u001b[0;32mreturn\u001b[0m \u001b[0mself\u001b[0m\u001b[0;34m.\u001b[0m\u001b[0m_deshuffle_field\u001b[0m\u001b[0;34m(\u001b[0m\u001b[0mself\u001b[0m\u001b[0;34m.\u001b[0m\u001b[0m_lats\u001b[0m\u001b[0;34m)\u001b[0m\u001b[0;34m\u001b[0m\u001b[0;34m\u001b[0m\u001b[0m\n\u001b[0m\u001b[1;32m    238\u001b[0m     \u001b[0;34m@\u001b[0m\u001b[0mproperty\u001b[0m\u001b[0;34m\u001b[0m\u001b[0;34m\u001b[0m\u001b[0m\n\u001b[1;32m    239\u001b[0m     \u001b[0;32mdef\u001b[0m \u001b[0mx\u001b[0m\u001b[0;34m(\u001b[0m\u001b[0mself\u001b[0m\u001b[0;34m)\u001b[0m\u001b[0;34m:\u001b[0m\u001b[0;34m\u001b[0m\u001b[0;34m\u001b[0m\u001b[0m\n",
      "\u001b[0;32m~/.pyenv/versions/3.10.0/lib/python3.10/site-packages/stripy/spherical.py\u001b[0m in \u001b[0;36m_deshuffle_field\u001b[0;34m(self, *args)\u001b[0m\n\u001b[1;32m    284\u001b[0m         \u001b[0mfields\u001b[0m \u001b[0;34m=\u001b[0m \u001b[0;34m[\u001b[0m\u001b[0;34m]\u001b[0m\u001b[0;34m\u001b[0m\u001b[0;34m\u001b[0m\u001b[0m\n\u001b[1;32m    285\u001b[0m         \u001b[0;32mfor\u001b[0m \u001b[0marg\u001b[0m \u001b[0;32min\u001b[0m \u001b[0margs\u001b[0m\u001b[0;34m:\u001b[0m\u001b[0;34m\u001b[0m\u001b[0;34m\u001b[0m\u001b[0m\n\u001b[0;32m--> 286\u001b[0;31m             \u001b[0mfields\u001b[0m\u001b[0;34m.\u001b[0m\u001b[0mappend\u001b[0m\u001b[0;34m(\u001b[0m \u001b[0marg\u001b[0m\u001b[0;34m[\u001b[0m\u001b[0mip\u001b[0m\u001b[0;34m]\u001b[0m \u001b[0;34m)\u001b[0m\u001b[0;34m\u001b[0m\u001b[0;34m\u001b[0m\u001b[0m\n\u001b[0m\u001b[1;32m    287\u001b[0m \u001b[0;34m\u001b[0m\u001b[0m\n\u001b[1;32m    288\u001b[0m         \u001b[0;32mif\u001b[0m \u001b[0mlen\u001b[0m\u001b[0;34m(\u001b[0m\u001b[0mfields\u001b[0m\u001b[0;34m)\u001b[0m \u001b[0;34m==\u001b[0m \u001b[0;36m1\u001b[0m\u001b[0;34m:\u001b[0m\u001b[0;34m\u001b[0m\u001b[0;34m\u001b[0m\u001b[0m\n",
      "\u001b[0;31mKeyboardInterrupt\u001b[0m: "
     ]
    }
   ],
   "source": [
    "fmesh = stripy.spherical_meshes.icosahedral_mesh(refinement_levels=9, include_face_points=False)\n",
    "point_count = fmesh.npoints\n",
    "points = np.zeros((point_count, 3))\n",
    "values = np.zeros(point_count)\n",
    "latlons = np.zeros((point_count, 2))\n",
    "areas = 4 * math.pi * np.ones(point_count) / point_count\n",
    "for i in range(point_count):\n",
    "#     lon = rng.random() * 2 * math.pi\n",
    "    lon = fmesh.lons[i]\n",
    "    lat = math.pi / 2 - fmesh.lats[i]\n",
    "#     lat = np.arccos(2 * rng.random() - 1)\n",
    "    x, y, z = sph2cart(1, lat, lon)\n",
    "    lat = math.pi / 2 - lat\n",
    "    points[i,:] = [x, y, z]\n",
    "    latlons[i,:] = [lat, lon]\n",
    "    values[i] = 2 * math.pi / 7 * np.sin(lat) + 30 * np.sin(lat) * np.power(np.cos(lat), 4) * np.cos(4 * lon)"
   ]
  },
  {
   "cell_type": "code",
   "execution_count": null,
   "id": "d1f144a0",
   "metadata": {},
   "outputs": [],
   "source": [
    "values"
   ]
  },
  {
   "cell_type": "code",
   "execution_count": null,
   "id": "778bac65",
   "metadata": {},
   "outputs": [],
   "source": [
    "with open('points.csv', 'w', newline='') as csvfile:\n",
    "    spamwriter = csv.writer(csvfile, delimiter=',', quotechar='|', quoting=csv.QUOTE_MINIMAL)\n",
    "    for i in range(point_count):\n",
    "        spamwriter.writerow([points[i][0], points[i][1], points[i][2], values[i]])"
   ]
  },
  {
   "cell_type": "code",
   "execution_count": null,
   "id": "6c28aaf3",
   "metadata": {},
   "outputs": [],
   "source": [
    "fmesh.npoints"
   ]
  },
  {
   "cell_type": "code",
   "execution_count": 30,
   "id": "d90499bd",
   "metadata": {},
   "outputs": [
    {
     "data": {
      "text/plain": [
       "-1.5707963267948966"
      ]
     },
     "execution_count": 30,
     "metadata": {},
     "output_type": "execute_result"
    }
   ],
   "source": [
    "np.amin(fmesh.lats)"
   ]
  },
  {
   "cell_type": "code",
   "execution_count": 149,
   "id": "c7c4febf",
   "metadata": {},
   "outputs": [
    {
     "data": {
      "text/plain": [
       "2621442"
      ]
     },
     "execution_count": 149,
     "metadata": {},
     "output_type": "execute_result"
    }
   ],
   "source": [
    "fmesh = stripy.spherical_meshes.icosahedral_mesh(refinement_levels=9, include_face_points=False)\n",
    "fmesh.npoints"
   ]
  },
  {
   "cell_type": "code",
   "execution_count": null,
   "id": "d405ced3",
   "metadata": {},
   "outputs": [],
   "source": []
  }
 ],
 "metadata": {
  "kernelspec": {
   "display_name": "Python 3 (ipykernel)",
   "language": "python",
   "name": "python3"
  },
  "language_info": {
   "codemirror_mode": {
    "name": "ipython",
    "version": 3
   },
   "file_extension": ".py",
   "mimetype": "text/x-python",
   "name": "python",
   "nbconvert_exporter": "python",
   "pygments_lexer": "ipython3",
   "version": "3.10.0"
  }
 },
 "nbformat": 4,
 "nbformat_minor": 5
}
