{
 "cells": [
  {
   "cell_type": "code",
   "execution_count": 1,
   "id": "75933764",
   "metadata": {},
   "outputs": [],
   "source": [
    "import numpy as np\n",
    "import math\n",
    "import csv \n",
    "import stripy\n",
    "\n",
    "rng = np.random.default_rng()"
   ]
  },
  {
   "cell_type": "code",
   "execution_count": 2,
   "id": "d89248bf",
   "metadata": {},
   "outputs": [],
   "source": [
    "def cart2sph(x, y, z):\n",
    "    r = np.sqrt(np.power(x, 2) + np.power(y, 2) + np.power(z, 2))\n",
    "    colat = np.arctan2(np.sqrt(np.power(x, 2) + np.power(y, 2)), z)\n",
    "    lon = np.arctan2(y, x)\n",
    "    return r, colat, lon\n",
    "\n",
    "def latlon(x, y, z): # returns latitude and longitude in degrees \n",
    "    r, colat, lon = cart2sph(x, y, z)\n",
    "    return lon, math.pi / 2 - colat\n",
    "\n",
    "def sph2cart(r, colat, lon):\n",
    "    x = r * np.sin(colat) * np.cos(lon)\n",
    "    y = r * np.sin(colat) * np.sin(lon)\n",
    "    z = r * np.cos(colat)\n",
    "    return x, y, z\n",
    "\n",
    "def gcdist(p1, p2, radius):\n",
    "    s = np.dot(p1, p2) / (np.linalg.norm(p1) * np.linalg.norm(p2))\n",
    "    theta = np.arccos(np.minimum(np.maximum(s, -1), 1))\n",
    "    return radius * theta"
   ]
  },
  {
   "cell_type": "code",
   "execution_count": 15,
   "id": "f23ffc5f",
   "metadata": {},
   "outputs": [],
   "source": [
    "fmesh = stripy.spherical_meshes.icosahedral_mesh(refinement_levels=7, include_face_points=False)\n",
    "point_count = fmesh.npoints\n",
    "points = np.zeros((point_count, 3))\n",
    "values = np.zeros(point_count)\n",
    "latlons = np.zeros((point_count, 2))\n",
    "areas = 4 * math.pi * np.ones(point_count) / point_count\n",
    "lon0 = 0\n",
    "lat0 = -math.pi / 20\n",
    "for i in range(point_count):\n",
    "#     lon = rng.random() * 2 * math.pi\n",
    "    lon = fmesh.lons[i]\n",
    "    lat = math.pi / 2 - fmesh.lats[i]\n",
    "#     lat = np.arccos(2 * rng.random() - 1)\n",
    "    x, y, z = sph2cart(1, lat, lon)\n",
    "    lat = math.pi / 2 - lat\n",
    "    points[i,:] = [x, y, z]\n",
    "    latlons[i,:] = [lat, lon]\n",
    "    values[i] = 4 * math.pi * np.exp(-16 * np.square(gcdist(sph2cart(1, math.pi / 2 - lat, lon), sph2cart(1, math.pi / 2 - lat0, lon0), 1))) # g vor\n",
    "#     values[i] = 2 * math.pi / 7 * np.sin(lat) + 30 * np.sin(lat) * np.power(np.cos(lat), 4) * np.cos(4 * lon) # RH wavenumber 4\n",
    "#     values[i] = 4 * math.pi / 35 * np.sin(lat) + 72 * np.sin(lat) * np.power(np.cos(lat), 7) * np.cos(7 * lon) # RH wavenumber 7\n",
    "total_vor = np.sum(areas * values)\n",
    "for i in range(point_count):\n",
    "    values[i] -= total_vor / (4 * math.pi)"
   ]
  },
  {
   "cell_type": "code",
   "execution_count": 16,
   "id": "d1f144a0",
   "metadata": {},
   "outputs": [
    {
     "data": {
      "text/plain": [
       "array([-0.18342118, -0.1570059 , -0.17359317, ..., -0.17196552,\n",
       "       -0.1659572 , -0.17422039])"
      ]
     },
     "execution_count": 16,
     "metadata": {},
     "output_type": "execute_result"
    }
   ],
   "source": [
    "values"
   ]
  },
  {
   "cell_type": "code",
   "execution_count": 36,
   "id": "778bac65",
   "metadata": {},
   "outputs": [],
   "source": [
    "with open('points.csv', 'w', newline='') as csvfile:\n",
    "    spamwriter = csv.writer(csvfile, delimiter=',', quotechar='|', quoting=csv.QUOTE_MINIMAL)\n",
    "    for i in range(point_count):\n",
    "        spamwriter.writerow([points[i][0], points[i][1], points[i][2], values[i]])"
   ]
  },
  {
   "cell_type": "code",
   "execution_count": 37,
   "id": "06b490b4",
   "metadata": {},
   "outputs": [],
   "source": [
    "with open('tris.csv', 'w', newline='') as csvfile:\n",
    "    spamwriter = csv.writer(csvfile, delimiter=',', quotechar='|', quoting=csv.QUOTE_MINIMAL)\n",
    "    for i in range(np.shape(fmesh.simplices)[0]):\n",
    "        tris = fmesh.simplices[i]\n",
    "        spamwriter.writerow([tris[0], tris[1], tris[2]])"
   ]
  },
  {
   "cell_type": "code",
   "execution_count": 38,
   "id": "28c8cbbe",
   "metadata": {},
   "outputs": [],
   "source": [
    "with open('vert_tris.csv', 'w', newline='') as csvfile:\n",
    "    spamwriter = csv.writer(csvfile, delimiter=',', quotechar='|', quoting=csv.QUOTE_MINIMAL)\n",
    "    for i in range(point_count):\n",
    "        tris = fmesh.identify_vertex_triangles(i)\n",
    "        if (np.size(tris) == 5):\n",
    "            spamwriter.writerow([tris[0], tris[1], tris[2], tris[3], tris[4]])\n",
    "        else:\n",
    "            spamwriter.writerow([tris[0], tris[1], tris[2], tris[3], tris[4], tris[5]])"
   ]
  },
  {
   "cell_type": "code",
   "execution_count": 39,
   "id": "634e3ae1",
   "metadata": {},
   "outputs": [],
   "source": [
    "with open('vert_tri_count.csv', 'w', newline='') as csvfile:\n",
    "    spamwriter = csv.writer(csvfile, delimiter=',', quotechar='|', quoting=csv.QUOTE_MINIMAL)\n",
    "    for i in range(point_count):\n",
    "        count = np.size(fmesh.identify_vertex_triangles(i))\n",
    "        spamwriter.writerow([count])"
   ]
  },
  {
   "cell_type": "code",
   "execution_count": 40,
   "id": "6c28aaf3",
   "metadata": {},
   "outputs": [
    {
     "data": {
      "text/plain": [
       "10242"
      ]
     },
     "execution_count": 40,
     "metadata": {},
     "output_type": "execute_result"
    }
   ],
   "source": [
    "fmesh.npoints"
   ]
  },
  {
   "cell_type": "code",
   "execution_count": 16,
   "id": "0c4853b9",
   "metadata": {},
   "outputs": [
    {
     "data": {
      "text/plain": [
       "1280"
      ]
     },
     "execution_count": 16,
     "metadata": {},
     "output_type": "execute_result"
    }
   ],
   "source": [
    "np.shape(fmesh.simplices)[0]"
   ]
  },
  {
   "cell_type": "code",
   "execution_count": 24,
   "id": "d90499bd",
   "metadata": {},
   "outputs": [
    {
     "data": {
      "text/plain": [
       "-1.5707963267948966"
      ]
     },
     "execution_count": 24,
     "metadata": {},
     "output_type": "execute_result"
    }
   ],
   "source": [
    "np.amin(fmesh.lats)"
   ]
  },
  {
   "cell_type": "code",
   "execution_count": 3,
   "id": "c7c4febf",
   "metadata": {},
   "outputs": [
    {
     "data": {
      "text/plain": [
       "642"
      ]
     },
     "execution_count": 3,
     "metadata": {},
     "output_type": "execute_result"
    }
   ],
   "source": [
    "fmesh = stripy.spherical_meshes.icosahedral_mesh(refinement_levels=3, include_face_points=False)\n",
    "fmesh.npoints"
   ]
  },
  {
   "cell_type": "code",
   "execution_count": 8,
   "id": "d405ced3",
   "metadata": {},
   "outputs": [
    {
     "data": {
      "text/plain": [
       "1280"
      ]
     },
     "execution_count": 8,
     "metadata": {},
     "output_type": "execute_result"
    }
   ],
   "source": [
    "np.shape(fmesh.simplices)[0]"
   ]
  },
  {
   "cell_type": "code",
   "execution_count": 34,
   "id": "0b35c898",
   "metadata": {},
   "outputs": [
    {
     "data": {
      "text/plain": [
       "array([ 816,  821, 3416, 3417, 4756, 4841])"
      ]
     },
     "execution_count": 34,
     "metadata": {},
     "output_type": "execute_result"
    }
   ],
   "source": [
    "fmesh.identify_vertex_triangles(2560)"
   ]
  },
  {
   "cell_type": "code",
   "execution_count": 27,
   "id": "8e3f807c",
   "metadata": {},
   "outputs": [],
   "source": [
    "tris = fmesh.identify_vertex_triangles(2560)"
   ]
  },
  {
   "cell_type": "code",
   "execution_count": 35,
   "id": "efc30bcc",
   "metadata": {},
   "outputs": [
    {
     "data": {
      "text/plain": [
       "6"
      ]
     },
     "execution_count": 35,
     "metadata": {},
     "output_type": "execute_result"
    }
   ],
   "source": [
    "np.size(tris)"
   ]
  },
  {
   "cell_type": "code",
   "execution_count": 41,
   "id": "f904c5aa",
   "metadata": {},
   "outputs": [],
   "source": [
    "test = np.zeros(2562)\n",
    "for i in range(2562):\n",
    "    test[i] = np.size(fmesh.identify_vertex_triangles(i))"
   ]
  },
  {
   "cell_type": "code",
   "execution_count": 44,
   "id": "0787b4a9",
   "metadata": {},
   "outputs": [
    {
     "data": {
      "text/plain": [
       "6.0"
      ]
     },
     "execution_count": 44,
     "metadata": {},
     "output_type": "execute_result"
    }
   ],
   "source": [
    "test.max()"
   ]
  },
  {
   "cell_type": "code",
   "execution_count": 17,
   "id": "8a596989",
   "metadata": {},
   "outputs": [
    {
     "data": {
      "text/plain": [
       "-3.99650473305313e-16"
      ]
     },
     "execution_count": 17,
     "metadata": {},
     "output_type": "execute_result"
    }
   ],
   "source": [
    "np.sum(values * areas)"
   ]
  },
  {
   "cell_type": "code",
   "execution_count": null,
   "id": "a87cd6e8",
   "metadata": {},
   "outputs": [],
   "source": []
  }
 ],
 "metadata": {
  "kernelspec": {
   "display_name": "Python 3 (ipykernel)",
   "language": "python",
   "name": "python3"
  },
  "language_info": {
   "codemirror_mode": {
    "name": "ipython",
    "version": 3
   },
   "file_extension": ".py",
   "mimetype": "text/x-python",
   "name": "python",
   "nbconvert_exporter": "python",
   "pygments_lexer": "ipython3",
   "version": "3.10.0"
  }
 },
 "nbformat": 4,
 "nbformat_minor": 5
}
