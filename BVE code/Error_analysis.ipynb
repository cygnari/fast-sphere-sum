{
 "cells": [
  {
   "cell_type": "code",
   "execution_count": 52,
   "id": "8f01dac8",
   "metadata": {},
   "outputs": [],
   "source": [
    "import numpy as np\n",
    "import math\n",
    "import csv \n",
    "import matplotlib.pyplot as plt\n",
    "import matplotlib.tri as mtri\n",
    "import seaborn as sns\n",
    "import os\n",
    "import imageio\n",
    "import colorcet as cc\n",
    "import cartopy.crs as ccrs\n",
    "import stripy\n",
    "\n",
    "%matplotlib inline\n",
    "%config InlineBackend.figure_format = 'svg'\n",
    "\n",
    "sns.set(rc={\"lines.linewidth\": 2.5,\"figure.figsize\":(12,6),\"lines.markersize\":2},font_scale=1.25)\n",
    "sns.set_context(\"notebook\")\n",
    "sns.set_style(\"white\")"
   ]
  },
  {
   "cell_type": "code",
   "execution_count": 2,
   "id": "5481a970",
   "metadata": {},
   "outputs": [],
   "source": [
    "def cart2sph(x, y, z):\n",
    "    r = np.sqrt(np.power(x, 2) + np.power(y, 2) + np.power(z, 2))\n",
    "    colat = np.arctan2(np.sqrt(np.power(x, 2) + np.power(y, 2)), z)\n",
    "    lon = np.arctan2(y, x)\n",
    "    return r, colat, lon\n",
    "\n",
    "def latlon(x, y, z): # returns latitude and longitude in degrees \n",
    "    r, colat, lon = cart2sph(x, y, z)\n",
    "    return lon, colat"
   ]
  },
  {
   "cell_type": "code",
   "execution_count": 175,
   "id": "4b521c61",
   "metadata": {},
   "outputs": [],
   "source": [
    "points_count = np.zeros(101)"
   ]
  },
  {
   "cell_type": "code",
   "execution_count": 177,
   "id": "4aa0f5ba",
   "metadata": {},
   "outputs": [],
   "source": [
    "with open('fast_point_counts_rh4_10242_noamr.csv', 'r', newline='') as csvfile1:\n",
    "    reader1 = csv.reader(csvfile1, delimiter=',', quotechar='|', quoting=csv.QUOTE_NONNUMERIC)\n",
    "    i = 0\n",
    "    for row in reader1:\n",
    "#         print(row)\n",
    "        points_count[i] = row[0]\n",
    "        i += 1"
   ]
  },
  {
   "cell_type": "code",
   "execution_count": 178,
   "id": "d9af9684",
   "metadata": {},
   "outputs": [],
   "source": [
    "data = np.zeros((101, int(points_count.max()), 8)) # x y z vorticity passive tracer area lon lat"
   ]
  },
  {
   "cell_type": "code",
   "execution_count": 179,
   "id": "01e8ff15",
   "metadata": {},
   "outputs": [],
   "source": [
    "with open('fast_output_rh4_10242_noamr.csv', 'r', newline='') as csvfile:\n",
    "    reader = csv.reader(csvfile, delimiter=',', quotechar='|', quoting=csv.QUOTE_NONNUMERIC)\n",
    "    i = 0\n",
    "    t = 0\n",
    "    for row in reader:\n",
    "#         t = i // point_count\n",
    "#         point = i % point_count\n",
    "        data[t, i, 0:6] = row\n",
    "        lon, lat = latlon(*row[0:3])\n",
    "        data[t, i, 6:8] = lon, lat\n",
    "        i += 1\n",
    "        if (i >= points_count[t]):\n",
    "            t += 1\n",
    "            i = 0\n",
    "        if t >= 101:\n",
    "            break"
   ]
  },
  {
   "cell_type": "code",
   "execution_count": 180,
   "id": "a1f8d792",
   "metadata": {},
   "outputs": [],
   "source": [
    "lons = data[-1,:,7]\n",
    "lats = data[-1,:,6]\n",
    "areas = data[-1,:,5]\n",
    "vor = data[-1,:,3]\n",
    "# true_vor = 2 * math.pi / 7 * np.sin(lats) + 30 * np.sin(lats) * np.power(np.cos(lats), 4) * np.cos(4 * lons)\n",
    "true_vor=data[0,:,3]"
   ]
  },
  {
   "cell_type": "code",
   "execution_count": 181,
   "id": "433a056b",
   "metadata": {},
   "outputs": [
    {
     "data": {
      "text/plain": [
       "2.135743711960883"
      ]
     },
     "execution_count": 181,
     "metadata": {},
     "output_type": "execute_result"
    }
   ],
   "source": [
    "np.sqrt(np.sum(np.square(true_vor - vor) * areas) / np.sum(np.square(true_vor) * areas))"
   ]
  },
  {
   "cell_type": "code",
   "execution_count": 163,
   "id": "1f0def5c",
   "metadata": {},
   "outputs": [
    {
     "data": {
      "text/plain": [
       "0.0"
      ]
     },
     "execution_count": 163,
     "metadata": {},
     "output_type": "execute_result"
    }
   ],
   "source": [
    "np.sum(np.square(true_vor) * areas)"
   ]
  },
  {
   "cell_type": "code",
   "execution_count": 183,
   "id": "e393b675",
   "metadata": {},
   "outputs": [
    {
     "data": {
      "text/plain": [
       "array([0.00094882, 0.00094882, 0.00094882, ..., 0.00114763, 0.00114763,\n",
       "       0.00113898])"
      ]
     },
     "execution_count": 183,
     "metadata": {},
     "output_type": "execute_result"
    }
   ],
   "source": [
    "areas"
   ]
  },
  {
   "cell_type": "code",
   "execution_count": 182,
   "id": "0b153070",
   "metadata": {},
   "outputs": [
    {
     "data": {
      "text/plain": [
       "array([[[ 0.00000000e+00,  0.00000000e+00,  1.00000000e+00, ...,\n",
       "          9.48819000e-04,  0.00000000e+00,  0.00000000e+00],\n",
       "        [ 8.94427000e-01,  0.00000000e+00,  4.47214000e-01, ...,\n",
       "          9.48819000e-04,  0.00000000e+00,  1.10714827e+00],\n",
       "        [ 7.23607000e-01,  5.25731000e-01, -4.47214000e-01, ...,\n",
       "          9.48819000e-04,  6.28318296e-01,  2.03444425e+00],\n",
       "        ...,\n",
       "        [ 6.47096000e-01,  6.17167000e-01, -4.47628000e-01, ...,\n",
       "          1.14763000e-03,  7.61729503e-01,  2.03490752e+00],\n",
       "        [ 6.89761000e-01, -6.17167000e-01, -3.78595000e-01, ...,\n",
       "          1.14763000e-03, -7.29909659e-01,  1.95907425e+00],\n",
       "        [ 7.45250000e-01, -5.16324000e-01, -4.21915000e-01, ...,\n",
       "          1.13898000e-03, -6.05890805e-01,  2.00635275e+00]],\n",
       "\n",
       "       [[ 0.00000000e+00,  0.00000000e+00,  1.00000000e+00, ...,\n",
       "          9.48819000e-04,  0.00000000e+00,  0.00000000e+00],\n",
       "        [ 8.94427000e-01,  0.00000000e+00,  4.47214000e-01, ...,\n",
       "          9.48819000e-04,  0.00000000e+00,  1.10714827e+00],\n",
       "        [ 7.23607000e-01,  5.25731000e-01, -4.47214000e-01, ...,\n",
       "          9.48819000e-04,  6.28318296e-01,  2.03444425e+00],\n",
       "        ...,\n",
       "        [ 6.47096000e-01,  6.17167000e-01, -4.47628000e-01, ...,\n",
       "          1.14763000e-03,  7.61729503e-01,  2.03490752e+00],\n",
       "        [ 6.89761000e-01, -6.17167000e-01, -3.78595000e-01, ...,\n",
       "          1.14763000e-03, -7.29909659e-01,  1.95907425e+00],\n",
       "        [ 7.45250000e-01, -5.16324000e-01, -4.21915000e-01, ...,\n",
       "          1.13898000e-03, -6.05890805e-01,  2.00635275e+00]],\n",
       "\n",
       "       [[ 0.00000000e+00,  0.00000000e+00,  1.00000000e+00, ...,\n",
       "          9.48819000e-04,  0.00000000e+00,  0.00000000e+00],\n",
       "        [ 8.94427000e-01,  0.00000000e+00,  4.47214000e-01, ...,\n",
       "          9.48819000e-04,  0.00000000e+00,  1.10714827e+00],\n",
       "        [ 7.23607000e-01,  5.25731000e-01, -4.47214000e-01, ...,\n",
       "          9.48819000e-04,  6.28318296e-01,  2.03444425e+00],\n",
       "        ...,\n",
       "        [ 6.47096000e-01,  6.17167000e-01, -4.47628000e-01, ...,\n",
       "          1.14763000e-03,  7.61729503e-01,  2.03490752e+00],\n",
       "        [ 6.89761000e-01, -6.17167000e-01, -3.78595000e-01, ...,\n",
       "          1.14763000e-03, -7.29909659e-01,  1.95907425e+00],\n",
       "        [ 7.45250000e-01, -5.16324000e-01, -4.21915000e-01, ...,\n",
       "          1.13898000e-03, -6.05890805e-01,  2.00635275e+00]],\n",
       "\n",
       "       ...,\n",
       "\n",
       "       [[ 0.00000000e+00,  0.00000000e+00,  1.00000000e+00, ...,\n",
       "          9.48819000e-04,  0.00000000e+00,  0.00000000e+00],\n",
       "        [ 8.94427000e-01,  0.00000000e+00,  4.47214000e-01, ...,\n",
       "          9.48819000e-04,  0.00000000e+00,  1.10714827e+00],\n",
       "        [ 7.23607000e-01,  5.25731000e-01, -4.47214000e-01, ...,\n",
       "          9.48819000e-04,  6.28318296e-01,  2.03444425e+00],\n",
       "        ...,\n",
       "        [ 6.47096000e-01,  6.17167000e-01, -4.47628000e-01, ...,\n",
       "          1.14763000e-03,  7.61729503e-01,  2.03490752e+00],\n",
       "        [ 6.89761000e-01, -6.17167000e-01, -3.78595000e-01, ...,\n",
       "          1.14763000e-03, -7.29909659e-01,  1.95907425e+00],\n",
       "        [ 7.45250000e-01, -5.16324000e-01, -4.21915000e-01, ...,\n",
       "          1.13898000e-03, -6.05890805e-01,  2.00635275e+00]],\n",
       "\n",
       "       [[ 0.00000000e+00,  0.00000000e+00,  1.00000000e+00, ...,\n",
       "          9.48819000e-04,  0.00000000e+00,  0.00000000e+00],\n",
       "        [ 8.94427000e-01,  0.00000000e+00,  4.47214000e-01, ...,\n",
       "          9.48819000e-04,  0.00000000e+00,  1.10714827e+00],\n",
       "        [ 7.23607000e-01,  5.25731000e-01, -4.47214000e-01, ...,\n",
       "          9.48819000e-04,  6.28318296e-01,  2.03444425e+00],\n",
       "        ...,\n",
       "        [ 6.47096000e-01,  6.17167000e-01, -4.47628000e-01, ...,\n",
       "          1.14763000e-03,  7.61729503e-01,  2.03490752e+00],\n",
       "        [ 6.89761000e-01, -6.17167000e-01, -3.78595000e-01, ...,\n",
       "          1.14763000e-03, -7.29909659e-01,  1.95907425e+00],\n",
       "        [ 7.45250000e-01, -5.16324000e-01, -4.21915000e-01, ...,\n",
       "          1.13898000e-03, -6.05890805e-01,  2.00635275e+00]],\n",
       "\n",
       "       [[ 0.00000000e+00,  0.00000000e+00,  1.00000000e+00, ...,\n",
       "          9.48819000e-04,  0.00000000e+00,  0.00000000e+00],\n",
       "        [ 8.94427000e-01,  0.00000000e+00,  4.47214000e-01, ...,\n",
       "          9.48819000e-04,  0.00000000e+00,  1.10714827e+00],\n",
       "        [ 7.23607000e-01,  5.25731000e-01, -4.47214000e-01, ...,\n",
       "          9.48819000e-04,  6.28318296e-01,  2.03444425e+00],\n",
       "        ...,\n",
       "        [ 6.47096000e-01,  6.17167000e-01, -4.47628000e-01, ...,\n",
       "          1.14763000e-03,  7.61729503e-01,  2.03490752e+00],\n",
       "        [ 6.89761000e-01, -6.17167000e-01, -3.78595000e-01, ...,\n",
       "          1.14763000e-03, -7.29909659e-01,  1.95907425e+00],\n",
       "        [ 7.45250000e-01, -5.16324000e-01, -4.21915000e-01, ...,\n",
       "          1.13898000e-03, -6.05890805e-01,  2.00635275e+00]]])"
      ]
     },
     "execution_count": 182,
     "metadata": {},
     "output_type": "execute_result"
    }
   ],
   "source": [
    "data"
   ]
  },
  {
   "cell_type": "code",
   "execution_count": null,
   "id": "58f26889",
   "metadata": {},
   "outputs": [],
   "source": []
  }
 ],
 "metadata": {
  "kernelspec": {
   "display_name": "Python 3 (ipykernel)",
   "language": "python",
   "name": "python3"
  },
  "language_info": {
   "codemirror_mode": {
    "name": "ipython",
    "version": 3
   },
   "file_extension": ".py",
   "mimetype": "text/x-python",
   "name": "python",
   "nbconvert_exporter": "python",
   "pygments_lexer": "ipython3",
   "version": "3.10.0"
  }
 },
 "nbformat": 4,
 "nbformat_minor": 5
}
